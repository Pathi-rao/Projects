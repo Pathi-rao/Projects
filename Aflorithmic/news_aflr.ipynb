{
 "cells": [
  {
   "cell_type": "code",
   "execution_count": null,
   "metadata": {
    "cell_id": "00000-ee099f98-97c1-44e9-adf9-a106a5b1a094",
    "deepnote_cell_type": "code",
    "deepnote_to_be_reexecuted": false,
    "execution_millis": 11535,
    "execution_start": 1625842732031,
    "source_hash": "3cff802a",
    "tags": []
   },
   "outputs": [],
   "source": [
    "!pip install aflr\n",
    "!pip install pydub"
   ]
  },
  {
   "cell_type": "code",
   "execution_count": null,
   "metadata": {
    "cell_id": "00001-0e456b8b-bb5e-425a-8597-aefeb9ca7662",
    "deepnote_cell_type": "code",
    "deepnote_to_be_reexecuted": false,
    "execution_millis": 22,
    "execution_start": 1625842751270,
    "source_hash": "77e61b5f",
    "tags": []
   },
   "outputs": [],
   "source": [
    "#do the imports\n",
    "import requests\n",
    "import aflr\n",
    "from pydub import AudioSegment"
   ]
  },
  {
   "cell_type": "code",
   "execution_count": null,
   "metadata": {
    "cell_id": "00002-6d30d537-240f-4fb9-9bb4-a5b715482e12",
    "deepnote_cell_type": "code",
    "deepnote_to_be_reexecuted": false,
    "execution_millis": 5,
    "execution_start": 1625840320620,
    "source_hash": "c09039bc",
    "tags": []
   },
   "outputs": [],
   "source": [
    "#news and aflr api's\n",
    "url = ('https://newsapi.org/v2/top-headlines?'\n",
    "       'country=us&'\n",
    "       'apikey= news_api_key_here ')\n",
    "\n",
    "aflr.api_key=\"alforithmic's_key_here\""
   ]
  },
  {
   "cell_type": "code",
   "execution_count": null,
   "metadata": {
    "cell_id": "00003-1ed0dc7c-a47c-4f25-b070-8d6e554358c2",
    "deepnote_cell_type": "code",
    "deepnote_to_be_reexecuted": false,
    "execution_millis": 93,
    "execution_start": 1625840320630,
    "source_hash": "f992efc9",
    "tags": []
   },
   "outputs": [],
   "source": [
    "#convert the response into json\n",
    "\n",
    "response = requests.get(url)\n",
    "response_json = response.json()\n",
    "\n",
    "#print (response.json())"
   ]
  },
  {
   "cell_type": "code",
   "execution_count": null,
   "metadata": {
    "cell_id": "00004-0f1620d3-d771-47dc-9682-56aecf467a97",
    "deepnote_cell_type": "code",
    "deepnote_to_be_reexecuted": false,
    "execution_millis": 42,
    "execution_start": 1625840320728,
    "source_hash": "edc656c",
    "tags": []
   },
   "outputs": [],
   "source": [
    "title = []\n",
    "description = []\n",
    "\n",
    "#loop thorugh the articles and get its title and description\n",
    "for each_article in response_json['articles']:\n",
    "    title.append(each_article['title'])\n",
    "    description.append(each_article['description'])\n",
    "\n",
    "    #comment this to see each title and its description\n",
    "    # print(each_article['title'])\n",
    "    # print(each_article['description'])\n",
    "    # print(' ')\n",
    "    # print(' ')\n",
    "\n",
    "#print(title)\n",
    "#print(description)"
   ]
  },
  {
   "cell_type": "code",
   "execution_count": null,
   "metadata": {
    "cell_id": "00005-2b5db484-8b66-4133-877a-8d5b31b5fcb9",
    "deepnote_cell_type": "code",
    "deepnote_to_be_reexecuted": false,
    "execution_millis": 5,
    "execution_start": 1625840320771,
    "source_hash": "9a42f502",
    "tags": []
   },
   "outputs": [],
   "source": [
    "#generate a list with each title and description as keys\n",
    "\n",
    "text_dict = {}\n",
    "text_list = []\n",
    "\n",
    "for i in range(len(title)):\n",
    "    text_dict['title'] = title[i]\n",
    "    text_dict['description'] = description[i]\n",
    "    text_list.append(text_dict)\n",
    "    text_dict = {}\n",
    "    \n",
    "text_list [0]"
   ]
  },
  {
   "cell_type": "code",
   "execution_count": null,
   "metadata": {
    "cell_id": "00010-e95e07a7-2025-46da-bdf6-2b58d28682b4",
    "deepnote_cell_type": "code",
    "deepnote_to_be_reexecuted": false,
    "execution_millis": 61801,
    "execution_start": 1625840466092,
    "source_hash": "9b8b39b3",
    "tags": []
   },
   "outputs": [],
   "source": [
    "#Create a script\n",
    "script = []\n",
    "\n",
    "for i in range(len(text_list)):\n",
    "\n",
    "\ttext = f\"\"\"\n",
    "\t\t<<soundSegment::intro>>\n",
    "\t\t<<sectionName::intro>> \n",
    "\t\t{text_list[i]['title']} <break time=\"2s\"/>\n",
    "\t\t<<soundSegment::main>>\n",
    "\t\t<<sectionName::main>> \n",
    "\t\t{text_list[i]['description']}\n",
    "\t<<soundEffect::effect1>>\n",
    "\t\"\"\"\n",
    "\tsingle_script = aflr.Script().create(scriptText=text, scriptName=\"news_female_\"+str(i) )\n",
    "\t#script.append(a)\n",
    "\n",
    "\t#Create speech\n",
    "\tr = aflr.Speech().create(\n",
    "\t\tscriptId=single_script[\"scriptId\"],\n",
    "\t\t# voice= \"te-IN-MohanNeural\",\n",
    "\t\tvoice= \"te-IN-ShrutiNeural\",\n",
    "\t\t# voice=\"en-GB-LibbyNeural\",\n",
    "\t\t# voice=\"en-GB-Wavenet-B\",\n",
    "\t\tspeed=120\n",
    "\t)\n",
    "\n",
    "\t#Choose a sound template and master!\n",
    "\ttemplate = \"breakingnews\"  # alternative eg: template = \"headlines\"\n",
    "\tresponse = aflr.Mastering().create(scriptId=single_script.get(\"scriptId\"), soundTemplate=template)\n",
    "\tprint(response)\n",
    "\n",
    "\t# retrieve mastered file and download to your local folder\n",
    "\tfile = aflr.Mastering().download(scriptId=single_script.get(\"scriptId\"), destination=\".\")\n",
    "\tprint(file)\n",
    "#print(script)\n"
   ]
  },
  {
   "cell_type": "code",
   "execution_count": null,
   "metadata": {
    "cell_id": "00007-91dcbcf3-c96b-4a37-bb33-e9083dfaa56c",
    "deepnote_cell_type": "code",
    "deepnote_to_be_reexecuted": false,
    "execution_millis": 45,
    "execution_start": 1625843031221,
    "source_hash": "e905552d",
    "tags": []
   },
   "outputs": [],
   "source": [
    "# convert all the files into one big file\n",
    "\n",
    "\n",
    "sound1 = AudioSegment.from_file(\"./news_female_0.mp3\", format=\"mp3\")\n",
    "sound2 = AudioSegment.from_file(\"./news_female_1.mp3\", format=\"mp3\")\n",
    "\n",
    "# # sound1 6 dB louder\n",
    "# louder = sound1 + 6\n",
    "\n",
    "\n",
    "# sound1, with sound2 appended \n",
    "combined = sound1 + sound2\n",
    "\n",
    "# simple export\n",
    "file_handle = combined.export(\"todays_news.mp3\", format=\"mp3\")"
   ]
  },
  {
   "cell_type": "code",
   "execution_count": null,
   "metadata": {
    "cell_id": "00010-295cc50d-bebc-494d-adeb-64ddb7feb2a6",
    "deepnote_cell_type": "code",
    "deepnote_to_be_reexecuted": true,
    "execution_millis": 398,
    "execution_start": 1625828945535,
    "source_hash": "4dcab500",
    "tags": []
   },
   "outputs": [],
   "source": [
    "# get url of audio tracks generated\n",
    "# url = aflr.Mastering().retrieve(scriptId=script.get(\"scriptId\"))\n",
    "# print(url)"
   ]
  }
 ],
 "metadata": {
  "deepnote": {
   "is_reactive": false
  },
  "deepnote_execution_queue": [],
  "deepnote_notebook_id": "86659c38-b80c-4981-8b86-8dc61277b64f",
  "kernelspec": {
   "display_name": "Python 3",
   "language": "python",
   "name": "python3"
  },
  "language_info": {
   "codemirror_mode": {
    "name": "ipython",
    "version": 3
   },
   "file_extension": ".py",
   "mimetype": "text/x-python",
   "name": "python",
   "nbconvert_exporter": "python",
   "pygments_lexer": "ipython3",
   "version": "3.8.10"
  }
 },
 "nbformat": 4,
 "nbformat_minor": 2
}
