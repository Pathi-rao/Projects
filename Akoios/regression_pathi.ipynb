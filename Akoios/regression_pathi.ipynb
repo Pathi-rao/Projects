{
 "cells": [
  {
   "cell_type": "code",
   "execution_count": 1,
   "metadata": {
    "ExecuteTime": {
     "end_time": "2021-07-14T13:46:34.055899Z",
     "start_time": "2021-07-14T13:46:30.493240Z"
    },
    "colab": {},
    "colab_type": "code",
    "id": "FSi2dBe6EvVq"
   },
   "outputs": [],
   "source": [
    "import pandas as pd\n",
    "from sklearn.linear_model import LinearRegression\n",
    "import json"
   ]
  },
  {
   "cell_type": "code",
   "execution_count": 2,
   "metadata": {
    "ExecuteTime": {
     "end_time": "2021-07-14T13:46:37.812331Z",
     "start_time": "2021-07-14T13:46:37.226723Z"
    },
    "colab": {},
    "colab_type": "code",
    "id": "mSnYLzyA156J"
   },
   "outputs": [],
   "source": [
    "# Reading the dataset from a Gitlab repo\n",
    "url = 'https://gitlab.com/jfuentesibanez/datasets/raw/master/regression_tutorial/advertising.csv'\n",
    "df = pd.read_csv(url)"
   ]
  },
  {
   "cell_type": "code",
   "execution_count": 3,
   "metadata": {
    "ExecuteTime": {
     "end_time": "2021-07-14T13:46:39.167567Z",
     "start_time": "2021-07-14T13:46:39.130183Z"
    },
    "colab": {},
    "colab_type": "code",
    "id": "6Crqf7zk2YOz"
   },
   "outputs": [
    {
     "data": {
      "text/html": [
       "<div>\n",
       "<style scoped>\n",
       "    .dataframe tbody tr th:only-of-type {\n",
       "        vertical-align: middle;\n",
       "    }\n",
       "\n",
       "    .dataframe tbody tr th {\n",
       "        vertical-align: top;\n",
       "    }\n",
       "\n",
       "    .dataframe thead th {\n",
       "        text-align: right;\n",
       "    }\n",
       "</style>\n",
       "<table border=\"1\" class=\"dataframe\">\n",
       "  <thead>\n",
       "    <tr style=\"text-align: right;\">\n",
       "      <th></th>\n",
       "      <th>TV</th>\n",
       "      <th>Radio</th>\n",
       "      <th>Newspaper</th>\n",
       "      <th>Sales</th>\n",
       "    </tr>\n",
       "  </thead>\n",
       "  <tbody>\n",
       "    <tr>\n",
       "      <th>0</th>\n",
       "      <td>230.1</td>\n",
       "      <td>37.8</td>\n",
       "      <td>69.2</td>\n",
       "      <td>22.1</td>\n",
       "    </tr>\n",
       "    <tr>\n",
       "      <th>1</th>\n",
       "      <td>44.5</td>\n",
       "      <td>39.3</td>\n",
       "      <td>45.1</td>\n",
       "      <td>10.4</td>\n",
       "    </tr>\n",
       "    <tr>\n",
       "      <th>2</th>\n",
       "      <td>17.2</td>\n",
       "      <td>45.9</td>\n",
       "      <td>69.3</td>\n",
       "      <td>12.0</td>\n",
       "    </tr>\n",
       "    <tr>\n",
       "      <th>3</th>\n",
       "      <td>151.5</td>\n",
       "      <td>41.3</td>\n",
       "      <td>58.5</td>\n",
       "      <td>16.5</td>\n",
       "    </tr>\n",
       "    <tr>\n",
       "      <th>4</th>\n",
       "      <td>180.8</td>\n",
       "      <td>10.8</td>\n",
       "      <td>58.4</td>\n",
       "      <td>17.9</td>\n",
       "    </tr>\n",
       "  </tbody>\n",
       "</table>\n",
       "</div>"
      ],
      "text/plain": [
       "      TV  Radio  Newspaper  Sales\n",
       "0  230.1   37.8       69.2   22.1\n",
       "1   44.5   39.3       45.1   10.4\n",
       "2   17.2   45.9       69.3   12.0\n",
       "3  151.5   41.3       58.5   16.5\n",
       "4  180.8   10.8       58.4   17.9"
      ]
     },
     "execution_count": 3,
     "metadata": {},
     "output_type": "execute_result"
    }
   ],
   "source": [
    "# Data exploration\n",
    "df.head()"
   ]
  },
  {
   "cell_type": "code",
   "execution_count": 4,
   "metadata": {
    "ExecuteTime": {
     "end_time": "2021-07-14T13:46:43.646296Z",
     "start_time": "2021-07-14T13:46:43.637321Z"
    },
    "colab": {},
    "colab_type": "code",
    "id": "hWRe1Md-21O0"
   },
   "outputs": [],
   "source": [
    "# In order to build he LR model we will use the first three columns as predictors (TV, Radio & Newspaper)\n",
    "predictors = ['TV', 'Radio', 'Newspaper']\n",
    "X = df[predictors]\n",
    "y = df['Sales']"
   ]
  },
  {
   "cell_type": "code",
   "execution_count": 5,
   "metadata": {
    "ExecuteTime": {
     "end_time": "2021-07-14T13:46:48.414647Z",
     "start_time": "2021-07-14T13:46:48.339015Z"
    },
    "colab": {},
    "colab_type": "code",
    "id": "LxUaemEe3WOe"
   },
   "outputs": [],
   "source": [
    "# Model fitting and initialization\n",
    "lm = LinearRegression()\n",
    "model = lm.fit(X, y)"
   ]
  },
  {
   "cell_type": "code",
   "execution_count": 6,
   "metadata": {
    "ExecuteTime": {
     "end_time": "2021-07-14T13:47:25.840251Z",
     "start_time": "2021-07-14T13:47:25.811506Z"
    },
    "colab": {},
    "colab_type": "code",
    "id": "qsuvFmjJ3gyh",
    "scrolled": true
   },
   "outputs": [
    {
     "name": "stdout",
     "output_type": "stream",
     "text": [
      "alpha = 4.625124078808655\n",
      "betas = [0.05444578 0.10700123 0.00033566]\n"
     ]
    }
   ],
   "source": [
    "# Now we can see the coefficients of our model\n",
    "print(f'alpha = {model.intercept_}')\n",
    "print(f'betas = {model.coef_}')"
   ]
  },
  {
   "cell_type": "code",
   "execution_count": 9,
   "metadata": {
    "ExecuteTime": {
     "end_time": "2021-07-14T13:57:47.152805Z",
     "start_time": "2021-07-14T13:57:47.142801Z"
    }
   },
   "outputs": [],
   "source": [
    "# Mock request for local API testing\n",
    "headers = {\n",
    "    'content-type': 'application/json'\n",
    "}\n",
    "body = {\n",
    "    \"data\": [[1.5, 2.5, 3.5]]\n",
    "}\n",
    "REQUEST = json.dumps({'headers':headers, 'body':body })"
   ]
  },
  {
   "cell_type": "code",
   "execution_count": 10,
   "metadata": {
    "ExecuteTime": {
     "end_time": "2021-07-14T13:57:49.256665Z",
     "start_time": "2021-07-14T13:57:49.241007Z"
    },
    "colab": {},
    "colab_type": "code",
    "id": "dkxc3TFn7Wjg"
   },
   "outputs": [
    {
     "name": "stdout",
     "output_type": "stream",
     "text": [
      "[4.97547062]\n"
     ]
    }
   ],
   "source": [
    "# POST /prediction\n",
    "body = json.loads(REQUEST)['body']\n",
    "# predict the output for a new sample. Function to be exposed through Titan\n",
    "input_params = body['data']\n",
    "print(model.predict(input_params))"
   ]
  }
 ],
 "metadata": {
  "colab": {
   "name": "regression.ipynb",
   "provenance": []
  },
  "kernelspec": {
   "display_name": "Python 3",
   "language": "python",
   "name": "python3"
  },
  "language_info": {
   "codemirror_mode": {
    "name": "ipython",
    "version": 3
   },
   "file_extension": ".py",
   "mimetype": "text/x-python",
   "name": "python",
   "nbconvert_exporter": "python",
   "pygments_lexer": "ipython3",
   "version": "3.8.8"
  }
 },
 "nbformat": 4,
 "nbformat_minor": 1
}
